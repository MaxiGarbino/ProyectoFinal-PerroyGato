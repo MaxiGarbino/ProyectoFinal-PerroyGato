{
 "cells": [
  {
   "cell_type": "code",
   "execution_count": null,
   "metadata": {},
   "outputs": [
    {
     "ename": "",
     "evalue": "",
     "output_type": "error",
     "traceback": [
      "\u001b[1;31mRunning cells with 'c:\\Python310\\python.exe' requires the ipykernel package.\n",
      "\u001b[1;31mRun the following command to install 'ipykernel' into the Python environment. \n",
      "\u001b[1;31mCommand: 'c:/Python310/python.exe -m pip install ipykernel -U --user --force-reinstall'"
     ]
    }
   ],
   "source": [
    "import os\n",
    "\n",
    "images_path = \"images\"\n",
    "annotations_path = \"annotations\"\n",
    "\n",
    "trainval = open(os.path.join(annotations_path, \"trainval.txt\")).readlines()\n",
    "test = open(os.path.join(annotations_path, \"test.txt\")).readlines()\n",
    "\n",
    "os.makedirs(os.path.join(images_path, \"train\", \"cats\"), exist_ok=True)\n",
    "os.makedirs(os.path.join(images_path, \"train\", \"dogs\"), exist_ok=True)\n",
    "os.makedirs(os.path.join(images_path, \"test\", \"cats\"), exist_ok=True)\n",
    "os.makedirs(os.path.join(images_path, \"test\", \"dogs\"), exist_ok=True)\n",
    "\n",
    "def classify_image(line, subset):\n",
    "    basename = line.split(\" \")[0]\n",
    "    species = line.split(\" \")[2]\n",
    "    subfolder = \"cats\" if species == \"1\" else \"dogs\"\n",
    "    oldpath = os.path.join(images_path, f\"{basename}.jpg\")\n",
    "    newpath = os.path.join(images_path, subset, subfolder, f\"{basename}.jpg\")\n",
    "    if os.path.isfile(oldpath):\n",
    "        os.rename(oldpath, newpath)\n",
    "\n",
    "for line in trainval:\n",
    "    classify_image(line, \"train\")\n",
    "\n",
    "for line in test:\n",
    "    classify_image(line, \"test\")"
   ]
  },
  {
   "cell_type": "code",
   "execution_count": null,
   "metadata": {},
   "outputs": [],
   "source": [
    "from tensorflow.keras.preprocessing.image import ImageDataGenerator\n",
    "\n",
    "generador_entrenamiento = ImageDataGenerator()\n",
    "datos_entrenamiento = generador_entrenamiento.flow_from_directory(\"images/train\")\n",
    "generador_test = ImageDataGenerator()\n",
    "datos_test = generador_test.flow_from_directory(\"images/test\", class_mode=None)\n",
    "algunas_imagenes = next(datos_test)"
   ]
  },
  {
   "cell_type": "code",
   "execution_count": null,
   "metadata": {},
   "outputs": [],
   "source": [
    "from matplotlib import pyplot as plt\n",
    "plt.imshow(algunas_imagenes[0]/255.)\n",
    "plt.axis('off')\n",
    "plt.show()\n",
    "plt.imshow(algunas_imagenes[1]/255.)\n",
    "plt.axis('off')\n",
    "plt.show()"
   ]
  },
  {
   "cell_type": "code",
   "execution_count": null,
   "metadata": {},
   "outputs": [],
   "source": [
    "from tensorflow.keras import applications\n",
    "inception = applications.InceptionV3(include_top=False, input_shape=(256, 256, 3))"
   ]
  },
  {
   "cell_type": "code",
   "execution_count": null,
   "metadata": {},
   "outputs": [],
   "source": [
    "from tensorflow.keras.layers import Flatten, Dense\n",
    "from tensorflow.keras.models import Sequential\n",
    "predictor = Sequential([\n",
    "    Flatten(), \n",
    "    Dense(128, activation=\"relu\"), \n",
    "    Dense(2, activation=\"softmax\")\n",
    "])\n",
    "modelo = Sequential([inception, predictor])\n",
    "modelo.compile(optimizer=\"adam\", loss=\"categorical_crossentropy\")"
   ]
  },
  {
   "cell_type": "code",
   "execution_count": null,
   "metadata": {},
   "outputs": [],
   "source": [
    "modelo.fit(datos_entrenamiento, epochs=50)"
   ]
  },
  {
   "cell_type": "code",
   "execution_count": null,
   "metadata": {},
   "outputs": [],
   "source": [
    "lote_test = next(datos_test)\n",
    "\n",
    "probs = modelo.predict(lote_test)\n",
    "import numpy as np\n",
    "clase = np.argmax(probs, -1)"
   ]
  },
  {
   "cell_type": "code",
   "execution_count": null,
   "metadata": {},
   "outputs": [],
   "source": [
    "mostrar_imagenes = 10\n",
    "\n",
    "for i in range(mostrar_imagenes):\n",
    "    plt.imshow(lote_test[i]/255.)\n",
    "    plt.axis('off')\n",
    "    plt.show()\n",
    "    print(\"Predicción:\", \"perro\" if clase[i] else \"gato\")"
   ]
  },
  {
   "cell_type": "code",
   "execution_count": null,
   "metadata": {},
   "outputs": [],
   "source": [
    "modelo.fit(datos_entrenamiento, epochs=50)"
   ]
  }
 ],
 "metadata": {
  "kernelspec": {
   "display_name": "Python 3",
   "language": "python",
   "name": "python3"
  },
  "language_info": {
   "name": "python",
   "version": "3.10.4"
  }
 },
 "nbformat": 4,
 "nbformat_minor": 2
}
